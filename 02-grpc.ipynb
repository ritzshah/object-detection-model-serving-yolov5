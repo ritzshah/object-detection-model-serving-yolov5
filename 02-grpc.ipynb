{
 "cells": [
  {
   "cell_type": "markdown",
   "id": "1aba4cbc-8293-445a-9059-32cc2cf5dd73",
   "metadata": {},
   "source": [
    "# GRPC with ModelMesh Server cheat sheet"
   ]
  },
  {
   "cell_type": "markdown",
   "id": "91e9b8e5-b92e-44d1-852f-77400dd93bfa",
   "metadata": {
    "tags": []
   },
   "source": [
    "## Configuration"
   ]
  },
  {
   "cell_type": "code",
   "execution_count": 15,
   "id": "107e2754-08ff-4fd9-866d-5b92036efb8d",
   "metadata": {},
   "outputs": [
    {
     "name": "stdout",
     "output_type": "stream",
     "text": [
      "Collecting protobuf==3.19.6\n",
      "  Downloading protobuf-3.19.6-cp39-cp39-manylinux_2_17_x86_64.manylinux2014_x86_64.whl (1.1 MB)\n",
      "\u001b[2K     \u001b[90m━━━━━━━━━━━━━━━━━━━━━━━━━━━━━━━━━━━━━━━━\u001b[0m \u001b[32m1.1/1.1 MB\u001b[0m \u001b[31m20.0 MB/s\u001b[0m eta \u001b[36m0:00:00\u001b[0m \u001b[36m0:00:01\u001b[0m\n",
      "\u001b[?25hInstalling collected packages: protobuf\n",
      "  Attempting uninstall: protobuf\n",
      "    Found existing installation: protobuf 4.25.1\n",
      "    Uninstalling protobuf-4.25.1:\n",
      "      Successfully uninstalled protobuf-4.25.1\n",
      "Successfully installed protobuf-3.19.6\n",
      "\n",
      "\u001b[1m[\u001b[0m\u001b[34;49mnotice\u001b[0m\u001b[1;39;49m]\u001b[0m\u001b[39;49m A new release of pip available: \u001b[0m\u001b[31;49m22.2.2\u001b[0m\u001b[39;49m -> \u001b[0m\u001b[32;49m23.3.2\u001b[0m\n",
      "\u001b[1m[\u001b[0m\u001b[34;49mnotice\u001b[0m\u001b[1;39;49m]\u001b[0m\u001b[39;49m To update, run: \u001b[0m\u001b[32;49mpip install --upgrade pip\u001b[0m\n"
     ]
    }
   ],
   "source": [
    "!pip install --upgrade protobuf==3.19.6"
   ]
  },
  {
   "cell_type": "code",
   "execution_count": 16,
   "id": "b05de2af-ef0f-4117-bc60-1707ef52c624",
   "metadata": {},
   "outputs": [
    {
     "name": "stdout",
     "output_type": "stream",
     "text": [
      "Requirement already satisfied: grpcio in /opt/app-root/lib/python3.9/site-packages (1.60.0)\n",
      "\n",
      "\u001b[1m[\u001b[0m\u001b[34;49mnotice\u001b[0m\u001b[1;39;49m]\u001b[0m\u001b[39;49m A new release of pip available: \u001b[0m\u001b[31;49m22.2.2\u001b[0m\u001b[39;49m -> \u001b[0m\u001b[32;49m23.3.2\u001b[0m\n",
      "\u001b[1m[\u001b[0m\u001b[34;49mnotice\u001b[0m\u001b[1;39;49m]\u001b[0m\u001b[39;49m To update, run: \u001b[0m\u001b[32;49mpip install --upgrade pip\u001b[0m\n"
     ]
    }
   ],
   "source": [
    "!pip install --upgrade grpcio"
   ]
  },
  {
   "cell_type": "markdown",
   "id": "f5bd8c84-2028-4982-9c73-33ac2e3c5311",
   "metadata": {
    "tags": []
   },
   "source": [
    "#### Set grpc endpoint and model name"
   ]
  },
  {
   "cell_type": "code",
   "execution_count": 18,
   "id": "2da3b64c-69e4-43ca-b7e0-2f483a38d84e",
   "metadata": {},
   "outputs": [
    {
     "name": "stdout",
     "output_type": "stream",
     "text": [
      "Requirement already satisfied: tensorflow in /opt/app-root/lib/python3.9/site-packages (2.15.0.post1)\n",
      "Requirement already satisfied: tensorboard in /opt/app-root/lib/python3.9/site-packages (2.15.1)\n",
      "Requirement already satisfied: onnx in /opt/app-root/lib/python3.9/site-packages (1.15.0)\n",
      "Requirement already satisfied: kfp in /opt/app-root/lib/python3.9/site-packages (2.4.0)\n",
      "Requirement already satisfied: kfp-pipeline-spec in /opt/app-root/lib/python3.9/site-packages (0.2.2)\n",
      "Requirement already satisfied: grpcio<2.0,>=1.24.3 in /opt/app-root/lib/python3.9/site-packages (from tensorflow) (1.60.0)\n",
      "Requirement already satisfied: six>=1.12.0 in /opt/app-root/lib/python3.9/site-packages (from tensorflow) (1.16.0)\n",
      "Requirement already satisfied: packaging in /opt/app-root/lib/python3.9/site-packages (from tensorflow) (23.2)\n",
      "Requirement already satisfied: typing-extensions>=3.6.6 in /opt/app-root/lib/python3.9/site-packages (from tensorflow) (4.8.0)\n",
      "Requirement already satisfied: flatbuffers>=23.5.26 in /opt/app-root/lib/python3.9/site-packages (from tensorflow) (23.5.26)\n",
      "Requirement already satisfied: google-pasta>=0.1.1 in /opt/app-root/lib/python3.9/site-packages (from tensorflow) (0.2.0)\n",
      "Requirement already satisfied: opt-einsum>=2.3.2 in /opt/app-root/lib/python3.9/site-packages (from tensorflow) (3.3.0)\n",
      "Requirement already satisfied: tensorflow-estimator<2.16,>=2.15.0 in /opt/app-root/lib/python3.9/site-packages (from tensorflow) (2.15.0)\n",
      "Requirement already satisfied: wrapt<1.15,>=1.11.0 in /opt/app-root/lib/python3.9/site-packages (from tensorflow) (1.14.1)\n",
      "Requirement already satisfied: libclang>=13.0.0 in /opt/app-root/lib/python3.9/site-packages (from tensorflow) (16.0.6)\n",
      "Requirement already satisfied: absl-py>=1.0.0 in /opt/app-root/lib/python3.9/site-packages (from tensorflow) (1.4.0)\n",
      "Requirement already satisfied: termcolor>=1.1.0 in /opt/app-root/lib/python3.9/site-packages (from tensorflow) (2.3.0)\n",
      "Requirement already satisfied: numpy<2.0.0,>=1.23.5 in /opt/app-root/lib/python3.9/site-packages (from tensorflow) (1.23.5)\n",
      "Requirement already satisfied: keras<2.16,>=2.15.0 in /opt/app-root/lib/python3.9/site-packages (from tensorflow) (2.15.0)\n",
      "Requirement already satisfied: gast!=0.5.0,!=0.5.1,!=0.5.2,>=0.2.1 in /opt/app-root/lib/python3.9/site-packages (from tensorflow) (0.4.0)\n",
      "Requirement already satisfied: protobuf!=4.21.0,!=4.21.1,!=4.21.2,!=4.21.3,!=4.21.4,!=4.21.5,<5.0.0dev,>=3.20.3 in /opt/app-root/lib/python3.9/site-packages (from tensorflow) (3.20.3)\n",
      "Requirement already satisfied: h5py>=2.9.0 in /opt/app-root/lib/python3.9/site-packages (from tensorflow) (3.10.0)\n",
      "Requirement already satisfied: tensorflow-io-gcs-filesystem>=0.23.1 in /opt/app-root/lib/python3.9/site-packages (from tensorflow) (0.34.0)\n",
      "Requirement already satisfied: ml-dtypes~=0.2.0 in /opt/app-root/lib/python3.9/site-packages (from tensorflow) (0.2.0)\n",
      "Requirement already satisfied: setuptools in /opt/app-root/lib/python3.9/site-packages (from tensorflow) (68.2.2)\n",
      "Requirement already satisfied: astunparse>=1.6.0 in /opt/app-root/lib/python3.9/site-packages (from tensorflow) (1.6.3)\n",
      "Requirement already satisfied: tensorboard-data-server<0.8.0,>=0.7.0 in /opt/app-root/lib/python3.9/site-packages (from tensorboard) (0.7.2)\n",
      "Requirement already satisfied: markdown>=2.6.8 in /opt/app-root/lib/python3.9/site-packages (from tensorboard) (3.5.1)\n",
      "Requirement already satisfied: requests<3,>=2.21.0 in /opt/app-root/lib/python3.9/site-packages (from tensorboard) (2.31.0)\n",
      "Requirement already satisfied: werkzeug>=1.0.1 in /opt/app-root/lib/python3.9/site-packages (from tensorboard) (3.0.1)\n",
      "Requirement already satisfied: google-auth-oauthlib<2,>=0.5 in /opt/app-root/lib/python3.9/site-packages (from tensorboard) (1.2.0)\n",
      "Requirement already satisfied: google-auth<3,>=1.6.3 in /opt/app-root/lib/python3.9/site-packages (from tensorboard) (2.23.4)\n",
      "Requirement already satisfied: click<9,>=8.0.0 in /opt/app-root/lib/python3.9/site-packages (from kfp) (8.1.7)\n",
      "Requirement already satisfied: requests-toolbelt<1,>=0.8.0 in /opt/app-root/lib/python3.9/site-packages (from kfp) (0.10.1)\n",
      "Requirement already satisfied: google-api-core!=2.0.*,!=2.1.*,!=2.2.*,!=2.3.0,<3.0.0dev,>=1.31.5 in /opt/app-root/lib/python3.9/site-packages (from kfp) (2.12.0)\n",
      "Requirement already satisfied: urllib3<2.0.0 in /opt/app-root/lib/python3.9/site-packages (from kfp) (1.26.18)\n",
      "Requirement already satisfied: docstring-parser<1,>=0.7.3 in /opt/app-root/lib/python3.9/site-packages (from kfp) (0.15)\n",
      "Requirement already satisfied: tabulate<1,>=0.8.6 in /opt/app-root/lib/python3.9/site-packages (from kfp) (0.9.0)\n",
      "Requirement already satisfied: PyYAML<7,>=5.3 in /opt/app-root/lib/python3.9/site-packages (from kfp) (6.0.1)\n",
      "Requirement already satisfied: kfp-server-api<2.1.0,>=2.0.0 in /opt/app-root/lib/python3.9/site-packages (from kfp) (2.0.5)\n",
      "Requirement already satisfied: google-cloud-storage<3,>=2.2.1 in /opt/app-root/lib/python3.9/site-packages (from kfp) (2.13.0)\n",
      "Requirement already satisfied: kubernetes<27,>=8.0.0 in /opt/app-root/lib/python3.9/site-packages (from kfp) (25.3.0)\n",
      "Requirement already satisfied: wheel<1.0,>=0.23.0 in /opt/app-root/lib/python3.9/site-packages (from astunparse>=1.6.0->tensorflow) (0.38.4)\n",
      "Requirement already satisfied: googleapis-common-protos<2.0.dev0,>=1.56.2 in /opt/app-root/lib/python3.9/site-packages (from google-api-core!=2.0.*,!=2.1.*,!=2.2.*,!=2.3.0,<3.0.0dev,>=1.31.5->kfp) (1.61.0)\n",
      "Requirement already satisfied: pyasn1-modules>=0.2.1 in /opt/app-root/lib/python3.9/site-packages (from google-auth<3,>=1.6.3->tensorboard) (0.3.0)\n",
      "Requirement already satisfied: rsa<5,>=3.1.4 in /opt/app-root/lib/python3.9/site-packages (from google-auth<3,>=1.6.3->tensorboard) (4.9)\n",
      "Requirement already satisfied: cachetools<6.0,>=2.0.0 in /opt/app-root/lib/python3.9/site-packages (from google-auth<3,>=1.6.3->tensorboard) (5.3.2)\n",
      "Requirement already satisfied: requests-oauthlib>=0.7.0 in /opt/app-root/lib/python3.9/site-packages (from google-auth-oauthlib<2,>=0.5->tensorboard) (1.3.1)\n",
      "Requirement already satisfied: google-cloud-core<3.0dev,>=2.3.0 in /opt/app-root/lib/python3.9/site-packages (from google-cloud-storage<3,>=2.2.1->kfp) (2.3.3)\n",
      "Requirement already satisfied: google-crc32c<2.0dev,>=1.0 in /opt/app-root/lib/python3.9/site-packages (from google-cloud-storage<3,>=2.2.1->kfp) (1.5.0)\n",
      "Requirement already satisfied: google-resumable-media>=2.6.0 in /opt/app-root/lib/python3.9/site-packages (from google-cloud-storage<3,>=2.2.1->kfp) (2.6.0)\n",
      "Requirement already satisfied: certifi in /opt/app-root/lib/python3.9/site-packages (from kfp-server-api<2.1.0,>=2.0.0->kfp) (2023.7.22)\n",
      "Requirement already satisfied: python-dateutil in /opt/app-root/lib/python3.9/site-packages (from kfp-server-api<2.1.0,>=2.0.0->kfp) (2.8.2)\n",
      "Requirement already satisfied: websocket-client!=0.40.0,!=0.41.*,!=0.42.*,>=0.32.0 in /opt/app-root/lib/python3.9/site-packages (from kubernetes<27,>=8.0.0->kfp) (1.6.4)\n",
      "Requirement already satisfied: importlib-metadata>=4.4 in /opt/app-root/lib/python3.9/site-packages (from markdown>=2.6.8->tensorboard) (6.8.0)\n",
      "Requirement already satisfied: charset-normalizer<4,>=2 in /opt/app-root/lib/python3.9/site-packages (from requests<3,>=2.21.0->tensorboard) (3.3.2)\n",
      "Requirement already satisfied: idna<4,>=2.5 in /opt/app-root/lib/python3.9/site-packages (from requests<3,>=2.21.0->tensorboard) (3.4)\n",
      "Requirement already satisfied: MarkupSafe>=2.1.1 in /opt/app-root/lib/python3.9/site-packages (from werkzeug>=1.0.1->tensorboard) (2.1.3)\n",
      "Requirement already satisfied: zipp>=0.5 in /opt/app-root/lib/python3.9/site-packages (from importlib-metadata>=4.4->markdown>=2.6.8->tensorboard) (3.17.0)\n",
      "Requirement already satisfied: pyasn1<0.6.0,>=0.4.6 in /opt/app-root/lib/python3.9/site-packages (from pyasn1-modules>=0.2.1->google-auth<3,>=1.6.3->tensorboard) (0.5.0)\n",
      "Requirement already satisfied: oauthlib>=3.0.0 in /opt/app-root/lib/python3.9/site-packages (from requests-oauthlib>=0.7.0->google-auth-oauthlib<2,>=0.5->tensorboard) (3.2.2)\n",
      "\n",
      "\u001b[1m[\u001b[0m\u001b[34;49mnotice\u001b[0m\u001b[1;39;49m]\u001b[0m\u001b[39;49m A new release of pip available: \u001b[0m\u001b[31;49m22.2.2\u001b[0m\u001b[39;49m -> \u001b[0m\u001b[32;49m23.3.2\u001b[0m\n",
      "\u001b[1m[\u001b[0m\u001b[34;49mnotice\u001b[0m\u001b[1;39;49m]\u001b[0m\u001b[39;49m To update, run: \u001b[0m\u001b[32;49mpip install --upgrade pip\u001b[0m\n"
     ]
    }
   ],
   "source": [
    "!pip install --upgrade tensorflow tensorboard onnx kfp kfp-pipeline-spec"
   ]
  },
  {
   "cell_type": "code",
   "execution_count": 19,
   "id": "51c82b4a-3041-4e20-aba0-6f7bfde649ec",
   "metadata": {},
   "outputs": [],
   "source": [
    "grpc_host = 'modelmesh-serving.object-detection-yolov5.svc.cluster.local'\n",
    "grpc_port = 8033\n",
    "model_name = 'object-detection-yolov5-model'"
   ]
  },
  {
   "cell_type": "markdown",
   "id": "223b4359-b34a-4e5b-96a5-e36b440b0d22",
   "metadata": {},
   "source": [
    "#### Imports"
   ]
  },
  {
   "cell_type": "code",
   "execution_count": 20,
   "id": "37fbe2f2-6313-4280-9b86-4d3481bc1706",
   "metadata": {},
   "outputs": [],
   "source": [
    "# grpc_predict_v2_pb2 and grpc_predict_v2_pb2_grpc were created from grpc_predict_v2.proto using protoc\n",
    "import grpc\n",
    "import grpc_predict_v2_pb2\n",
    "import grpc_predict_v2_pb2_grpc"
   ]
  },
  {
   "cell_type": "markdown",
   "id": "f0ee3e01-e616-40f3-a145-a8d01e7d49cc",
   "metadata": {},
   "source": [
    "#### Create grpc channel and stub"
   ]
  },
  {
   "cell_type": "code",
   "execution_count": 21,
   "id": "c05e6fcc-0483-4b2f-9f5f-77ad0270569a",
   "metadata": {},
   "outputs": [],
   "source": [
    "channel = grpc.insecure_channel(f\"{grpc_host}:{grpc_port}\")\n",
    "stub = grpc_predict_v2_pb2_grpc.GRPCInferenceServiceStub(channel)"
   ]
  },
  {
   "cell_type": "markdown",
   "id": "4776f8d9-6ffd-40f5-8fdb-8fbdc170ad9c",
   "metadata": {},
   "source": [
    "## Most useful methods"
   ]
  },
  {
   "cell_type": "markdown",
   "id": "892ee4d3-a672-4794-8cb9-16edcad3b5c3",
   "metadata": {
    "tags": []
   },
   "source": [
    "### Model Metadata\n",
    "The per-model metadata API provides information about a model. Errors are indicated by the google.rpc.Status returned for the request. The OK code indicates success and other codes indicate failure."
   ]
  },
  {
   "cell_type": "code",
   "execution_count": 22,
   "id": "858ed9d4",
   "metadata": {
    "tags": []
   },
   "outputs": [
    {
     "name": "stdout",
     "output_type": "stream",
     "text": [
      "name: \"object-detection-yolov5-model__isvc-f4730d1d39\"\n",
      "versions: \"1\"\n",
      "platform: \"OpenVINO\"\n",
      "inputs {\n",
      "  name: \"images\"\n",
      "  datatype: \"FP32\"\n",
      "  shape: 1\n",
      "  shape: 3\n",
      "  shape: 640\n",
      "  shape: 640\n",
      "}\n",
      "outputs {\n",
      "  name: \"output0\"\n",
      "  datatype: \"FP32\"\n",
      "  shape: 1\n",
      "  shape: 25200\n",
      "  shape: 85\n",
      "}\n",
      "\n"
     ]
    }
   ],
   "source": [
    "request = grpc_predict_v2_pb2.ModelMetadataRequest(name=model_name)\n",
    "response = stub.ModelMetadata(request)\n",
    "print(response)"
   ]
  },
  {
   "cell_type": "markdown",
   "id": "f5be61ff-73ce-416a-b475-20b8ea4071f3",
   "metadata": {},
   "source": [
    "### Model inference\n",
    "See specific notebooks for inference examples"
   ]
  },
  {
   "cell_type": "markdown",
   "id": "f734bb65-dbbd-4eba-bd01-db46257eaf0a",
   "metadata": {},
   "source": [
    "## Other methods (not all implemented, depending on the runtime)"
   ]
  },
  {
   "cell_type": "markdown",
   "id": "fa15d246-eb32-486e-ad61-854944c0d095",
   "metadata": {},
   "source": [
    "## Server live\n",
    "The ServerLive API indicates if the inference server is able to receive and respond to metadata and inference request.\n",
    "\n",
    "**NOTE**: This method may not be implemented with your runtime. For example, it's not implemented in OpenVino Model Server runtime."
   ]
  },
  {
   "cell_type": "code",
   "execution_count": null,
   "id": "f6340de8-6e1e-4ab2-a3df-110abb84304e",
   "metadata": {},
   "outputs": [],
   "source": [
    "request = grpc_predict_v2_pb2.ModelReady(name=model_name)\n",
    "response = stub.ModelReady(request, metadata=[(\"mm-model-id\", \"yolo\")])\n",
    "print(response)"
   ]
  },
  {
   "cell_type": "markdown",
   "id": "8de2a1e1-e6c8-404b-ac01-3bf1f0178bfd",
   "metadata": {},
   "source": [
    "## Server ready\n",
    "The ServerReady API indicates if the server is ready for inferencing.\n",
    "\n",
    "**NOTE**: This method may not be implemented with your runtime. For example, it's not implemented in OpenVino Model Server runtime."
   ]
  },
  {
   "cell_type": "code",
   "execution_count": null,
   "id": "779b1085",
   "metadata": {},
   "outputs": [],
   "source": [
    "request = grpc_predict_v2_pb2.ModelReady(name=model_name)\n",
    "response = stub.ModelReady(request, metadata=[(\"mm-model-id\", \"yolo\")])\n",
    "print(response)"
   ]
  },
  {
   "cell_type": "markdown",
   "id": "d53bd36a-e8a4-4c17-b500-fe6c63883f01",
   "metadata": {},
   "source": [
    "## Model ready\n",
    "The ModelReady API indicates if a specific model is ready for inferencing.\n",
    "\n",
    "**NOTE**: This method may not be implemented with your runtime. For example, it's not implemented in OpenVino Model Server runtime."
   ]
  },
  {
   "cell_type": "code",
   "execution_count": null,
   "id": "d2c29216",
   "metadata": {},
   "outputs": [],
   "source": [
    "request = grpc_predict_v2_pb2.ModelReady(name=model_name)\n",
    "response = stub.ModelReady(request, metadata=[(\"mm-model-id\", \"yolo\")])\n",
    "print(response)"
   ]
  },
  {
   "cell_type": "markdown",
   "id": "176921fc-c52f-4f86-991a-ab881e8399df",
   "metadata": {
    "tags": []
   },
   "source": [
    "## Server Metadata\n",
    "The ServerMetadata API provides information about the server. Errors are indicated by the google.rpc.Status returned for the request. The OK code indicates success and other codes indicate failure.\n",
    "\n",
    "\n",
    "**NOTE**: This method may not be implemented with your runtime. For example, it's not implemented in OpenVino Model Server runtime."
   ]
  },
  {
   "cell_type": "code",
   "execution_count": null,
   "id": "41b6cea8-02ab-42ea-b254-4d9ea365de05",
   "metadata": {
    "tags": []
   },
   "outputs": [],
   "source": [
    "request = grpc_predict_v2_pb2.ServerMetadataRequest()\n",
    "response = stub.ServerMetadata(request, metadata=[(\"mm-vmodel-id\", \"yolo\")])\n",
    "print(response)"
   ]
  }
 ],
 "metadata": {
  "kernelspec": {
   "display_name": "Python 3.9",
   "language": "python",
   "name": "python3"
  },
  "language_info": {
   "codemirror_mode": {
    "name": "ipython",
    "version": 3
   },
   "file_extension": ".py",
   "mimetype": "text/x-python",
   "name": "python",
   "nbconvert_exporter": "python",
   "pygments_lexer": "ipython3",
   "version": "3.9.18"
  }
 },
 "nbformat": 4,
 "nbformat_minor": 5
}
