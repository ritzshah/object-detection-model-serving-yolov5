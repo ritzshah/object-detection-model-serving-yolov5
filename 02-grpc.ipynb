{
 "cells": [
  {
   "cell_type": "markdown",
   "id": "1aba4cbc-8293-445a-9059-32cc2cf5dd73",
   "metadata": {},
   "source": [
    "# GRPC with ModelMesh Server cheat sheet"
   ]
  },
  {
   "cell_type": "markdown",
   "id": "91e9b8e5-b92e-44d1-852f-77400dd93bfa",
   "metadata": {
    "tags": []
   },
   "source": [
    "## Configuration"
   ]
  },
  {
   "cell_type": "code",
   "execution_count": 1,
   "id": "107e2754-08ff-4fd9-866d-5b92036efb8d",
   "metadata": {},
   "outputs": [
    {
     "name": "stdout",
     "output_type": "stream",
     "text": [
      "Requirement already satisfied: protobuf==3.20.2 in /opt/app-root/lib/python3.9/site-packages (3.20.2)\n",
      "\n",
      "\u001b[1m[\u001b[0m\u001b[34;49mnotice\u001b[0m\u001b[1;39;49m]\u001b[0m\u001b[39;49m A new release of pip available: \u001b[0m\u001b[31;49m22.2.2\u001b[0m\u001b[39;49m -> \u001b[0m\u001b[32;49m23.3.2\u001b[0m\n",
      "\u001b[1m[\u001b[0m\u001b[34;49mnotice\u001b[0m\u001b[1;39;49m]\u001b[0m\u001b[39;49m To update, run: \u001b[0m\u001b[32;49mpip install --upgrade pip\u001b[0m\n"
     ]
    }
   ],
   "source": [
    "!pip install --upgrade protobuf==3.20.2"
   ]
  },
  {
   "cell_type": "code",
   "execution_count": 2,
   "id": "b05de2af-ef0f-4117-bc60-1707ef52c624",
   "metadata": {},
   "outputs": [
    {
     "name": "stdout",
     "output_type": "stream",
     "text": [
      "Requirement already satisfied: grpcio in /opt/app-root/lib/python3.9/site-packages (1.60.0)\n",
      "\n",
      "\u001b[1m[\u001b[0m\u001b[34;49mnotice\u001b[0m\u001b[1;39;49m]\u001b[0m\u001b[39;49m A new release of pip available: \u001b[0m\u001b[31;49m22.2.2\u001b[0m\u001b[39;49m -> \u001b[0m\u001b[32;49m23.3.2\u001b[0m\n",
      "\u001b[1m[\u001b[0m\u001b[34;49mnotice\u001b[0m\u001b[1;39;49m]\u001b[0m\u001b[39;49m To update, run: \u001b[0m\u001b[32;49mpip install --upgrade pip\u001b[0m\n"
     ]
    }
   ],
   "source": [
    "!pip install --upgrade grpcio"
   ]
  },
  {
   "cell_type": "markdown",
   "id": "f5bd8c84-2028-4982-9c73-33ac2e3c5311",
   "metadata": {
    "tags": []
   },
   "source": [
    "#### Set grpc endpoint and model name"
   ]
  },
  {
   "cell_type": "code",
   "execution_count": 3,
   "id": "2da3b64c-69e4-43ca-b7e0-2f483a38d84e",
   "metadata": {},
   "outputs": [
    {
     "name": "stdout",
     "output_type": "stream",
     "text": [
      "Requirement already satisfied: tensorflow in /opt/app-root/lib/python3.9/site-packages (2.11.1)\n",
      "Collecting tensorflow\n",
      "  Downloading tensorflow-2.15.0.post1-cp39-cp39-manylinux_2_17_x86_64.manylinux2014_x86_64.whl (475.2 MB)\n",
      "\u001b[2K     \u001b[90m━━━━━━━━━━━━━━━━━━━━━━━━━━━━━━━━━━━━━\u001b[0m \u001b[32m475.2/475.2 MB\u001b[0m \u001b[31m235.1 MB/s\u001b[0m eta \u001b[36m0:00:00\u001b[0m00:01\u001b[0m00:01\u001b[0m\n",
      "\u001b[?25hRequirement already satisfied: tensorboard in /opt/app-root/lib/python3.9/site-packages (2.11.2)\n",
      "Collecting tensorboard\n",
      "  Downloading tensorboard-2.15.1-py3-none-any.whl (5.5 MB)\n",
      "\u001b[2K     \u001b[90m━━━━━━━━━━━━━━━━━━━━━━━━━━━━━━━━━━━━━━━━\u001b[0m \u001b[32m5.5/5.5 MB\u001b[0m \u001b[31m234.7 MB/s\u001b[0m eta \u001b[36m0:00:00\u001b[0m\n",
      "\u001b[?25hRequirement already satisfied: onnx in /opt/app-root/lib/python3.9/site-packages (1.12.0)\n",
      "Collecting onnx\n",
      "  Downloading onnx-1.15.0-cp39-cp39-manylinux_2_17_x86_64.manylinux2014_x86_64.whl (15.7 MB)\n",
      "\u001b[2K     \u001b[90m━━━━━━━━━━━━━━━━━━━━━━━━━━━━━━━━━━━━━━━\u001b[0m \u001b[32m15.7/15.7 MB\u001b[0m \u001b[31m246.8 MB/s\u001b[0m eta \u001b[36m0:00:00\u001b[0ma \u001b[36m0:00:01\u001b[0m\n",
      "\u001b[?25hRequirement already satisfied: kfp in /opt/app-root/lib/python3.9/site-packages (2.5.0)\n",
      "Requirement already satisfied: kfp-pipeline-spec in /opt/app-root/lib/python3.9/site-packages (0.2.2)\n",
      "Requirement already satisfied: opt-einsum>=2.3.2 in /opt/app-root/lib/python3.9/site-packages (from tensorflow) (3.3.0)\n",
      "Collecting flatbuffers>=23.5.26\n",
      "  Downloading flatbuffers-23.5.26-py2.py3-none-any.whl (26 kB)\n",
      "Requirement already satisfied: h5py>=2.9.0 in /opt/app-root/lib/python3.9/site-packages (from tensorflow) (3.10.0)\n",
      "Collecting keras<2.16,>=2.15.0\n",
      "  Downloading keras-2.15.0-py3-none-any.whl (1.7 MB)\n",
      "\u001b[2K     \u001b[90m━━━━━━━━━━━━━━━━━━━━━━━━━━━━━━━━━━━━━━━━\u001b[0m \u001b[32m1.7/1.7 MB\u001b[0m \u001b[31m318.1 MB/s\u001b[0m eta \u001b[36m0:00:00\u001b[0m\n",
      "\u001b[?25hRequirement already satisfied: absl-py>=1.0.0 in /opt/app-root/lib/python3.9/site-packages (from tensorflow) (1.4.0)\n",
      "Requirement already satisfied: termcolor>=1.1.0 in /opt/app-root/lib/python3.9/site-packages (from tensorflow) (2.3.0)\n",
      "Requirement already satisfied: gast!=0.5.0,!=0.5.1,!=0.5.2,>=0.2.1 in /opt/app-root/lib/python3.9/site-packages (from tensorflow) (0.4.0)\n",
      "Requirement already satisfied: wrapt<1.15,>=1.11.0 in /opt/app-root/lib/python3.9/site-packages (from tensorflow) (1.14.1)\n",
      "Requirement already satisfied: tensorflow-io-gcs-filesystem>=0.23.1 in /opt/app-root/lib/python3.9/site-packages (from tensorflow) (0.35.0)\n",
      "Requirement already satisfied: six>=1.12.0 in /opt/app-root/lib/python3.9/site-packages (from tensorflow) (1.16.0)\n",
      "Requirement already satisfied: ml-dtypes~=0.2.0 in /opt/app-root/lib/python3.9/site-packages (from tensorflow) (0.2.0)\n",
      "Requirement already satisfied: google-pasta>=0.1.1 in /opt/app-root/lib/python3.9/site-packages (from tensorflow) (0.2.0)\n",
      "Requirement already satisfied: grpcio<2.0,>=1.24.3 in /opt/app-root/lib/python3.9/site-packages (from tensorflow) (1.60.0)\n",
      "Collecting protobuf!=4.21.0,!=4.21.1,!=4.21.2,!=4.21.3,!=4.21.4,!=4.21.5,<5.0.0dev,>=3.20.3\n",
      "  Downloading protobuf-4.25.1-cp37-abi3-manylinux2014_x86_64.whl (294 kB)\n",
      "\u001b[2K     \u001b[90m━━━━━━━━━━━━━━━━━━━━━━━━━━━━━━━━━━━━━\u001b[0m \u001b[32m294.6/294.6 kB\u001b[0m \u001b[31m302.8 MB/s\u001b[0m eta \u001b[36m0:00:00\u001b[0m\n",
      "\u001b[?25hRequirement already satisfied: packaging in /opt/app-root/lib/python3.9/site-packages (from tensorflow) (23.2)\n",
      "Requirement already satisfied: setuptools in /opt/app-root/lib/python3.9/site-packages (from tensorflow) (68.2.2)\n",
      "Requirement already satisfied: astunparse>=1.6.0 in /opt/app-root/lib/python3.9/site-packages (from tensorflow) (1.6.3)\n",
      "Requirement already satisfied: typing-extensions>=3.6.6 in /opt/app-root/lib/python3.9/site-packages (from tensorflow) (4.8.0)\n",
      "Requirement already satisfied: numpy<2.0.0,>=1.23.5 in /opt/app-root/lib/python3.9/site-packages (from tensorflow) (1.23.5)\n",
      "Collecting tensorflow-estimator<2.16,>=2.15.0\n",
      "  Downloading tensorflow_estimator-2.15.0-py2.py3-none-any.whl (441 kB)\n",
      "\u001b[2K     \u001b[90m━━━━━━━━━━━━━━━━━━━━━━━━━━━━━━━━━━━━━\u001b[0m \u001b[32m442.0/442.0 kB\u001b[0m \u001b[31m323.8 MB/s\u001b[0m eta \u001b[36m0:00:00\u001b[0m\n",
      "\u001b[?25hRequirement already satisfied: libclang>=13.0.0 in /opt/app-root/lib/python3.9/site-packages (from tensorflow) (16.0.6)\n",
      "Requirement already satisfied: google-auth<3,>=1.6.3 in /opt/app-root/lib/python3.9/site-packages (from tensorboard) (2.23.4)\n",
      "Collecting google-auth-oauthlib<2,>=0.5\n",
      "  Downloading google_auth_oauthlib-1.2.0-py2.py3-none-any.whl (24 kB)\n",
      "Collecting protobuf!=4.21.0,!=4.21.1,!=4.21.2,!=4.21.3,!=4.21.4,!=4.21.5,<5.0.0dev,>=3.20.3\n",
      "  Downloading protobuf-4.23.4-cp37-abi3-manylinux2014_x86_64.whl (304 kB)\n",
      "\u001b[2K     \u001b[90m━━━━━━━━━━━━━━━━━━━━━━━━━━━━━━━━━━━━━\u001b[0m \u001b[32m304.5/304.5 kB\u001b[0m \u001b[31m312.6 MB/s\u001b[0m eta \u001b[36m0:00:00\u001b[0m\n",
      "\u001b[?25hRequirement already satisfied: requests<3,>=2.21.0 in /opt/app-root/lib/python3.9/site-packages (from tensorboard) (2.31.0)\n",
      "Requirement already satisfied: werkzeug>=1.0.1 in /opt/app-root/lib/python3.9/site-packages (from tensorboard) (3.0.1)\n",
      "Requirement already satisfied: markdown>=2.6.8 in /opt/app-root/lib/python3.9/site-packages (from tensorboard) (3.5.1)\n",
      "Collecting tensorboard-data-server<0.8.0,>=0.7.0\n",
      "  Downloading tensorboard_data_server-0.7.2-py3-none-manylinux_2_31_x86_64.whl (6.6 MB)\n",
      "\u001b[2K     \u001b[90m━━━━━━━━━━━━━━━━━━━━━━━━━━━━━━━━━━━━━━━━\u001b[0m \u001b[32m6.6/6.6 MB\u001b[0m \u001b[31m240.2 MB/s\u001b[0m eta \u001b[36m0:00:00\u001b[0m\n",
      "\u001b[?25hRequirement already satisfied: urllib3<2.0.0 in /opt/app-root/lib/python3.9/site-packages (from kfp) (1.26.18)\n",
      "Requirement already satisfied: PyYAML<7,>=5.3 in /opt/app-root/lib/python3.9/site-packages (from kfp) (6.0.1)\n",
      "Requirement already satisfied: kubernetes<27,>=8.0.0 in /opt/app-root/lib/python3.9/site-packages (from kfp) (25.3.0)\n",
      "Requirement already satisfied: tabulate<1,>=0.8.6 in /opt/app-root/lib/python3.9/site-packages (from kfp) (0.9.0)\n",
      "Requirement already satisfied: click<9,>=8.0.0 in /opt/app-root/lib/python3.9/site-packages (from kfp) (8.1.7)\n",
      "Requirement already satisfied: docstring-parser<1,>=0.7.3 in /opt/app-root/lib/python3.9/site-packages (from kfp) (0.15)\n",
      "Requirement already satisfied: google-cloud-storage<3,>=2.2.1 in /opt/app-root/lib/python3.9/site-packages (from kfp) (2.13.0)\n",
      "Collecting protobuf!=4.21.0,!=4.21.1,!=4.21.2,!=4.21.3,!=4.21.4,!=4.21.5,<5.0.0dev,>=3.20.3\n",
      "  Downloading protobuf-3.20.3-cp39-cp39-manylinux_2_5_x86_64.manylinux1_x86_64.whl (1.0 MB)\n",
      "\u001b[2K     \u001b[90m━━━━━━━━━━━━━━━━━━━━━━━━━━━━━━━━━━━━━━━━\u001b[0m \u001b[32m1.0/1.0 MB\u001b[0m \u001b[31m324.5 MB/s\u001b[0m eta \u001b[36m0:00:00\u001b[0m\n",
      "\u001b[?25hRequirement already satisfied: requests-toolbelt<1,>=0.8.0 in /opt/app-root/lib/python3.9/site-packages (from kfp) (0.10.1)\n",
      "Requirement already satisfied: kfp-server-api<2.1.0,>=2.0.0 in /opt/app-root/lib/python3.9/site-packages (from kfp) (2.0.5)\n",
      "Requirement already satisfied: google-api-core!=2.0.*,!=2.1.*,!=2.2.*,!=2.3.0,<3.0.0dev,>=1.31.5 in /opt/app-root/lib/python3.9/site-packages (from kfp) (2.12.0)\n",
      "Requirement already satisfied: wheel<1.0,>=0.23.0 in /opt/app-root/lib/python3.9/site-packages (from astunparse>=1.6.0->tensorflow) (0.38.4)\n",
      "Requirement already satisfied: googleapis-common-protos<2.0.dev0,>=1.56.2 in /opt/app-root/lib/python3.9/site-packages (from google-api-core!=2.0.*,!=2.1.*,!=2.2.*,!=2.3.0,<3.0.0dev,>=1.31.5->kfp) (1.61.0)\n",
      "Requirement already satisfied: pyasn1-modules>=0.2.1 in /opt/app-root/lib/python3.9/site-packages (from google-auth<3,>=1.6.3->tensorboard) (0.3.0)\n",
      "Requirement already satisfied: cachetools<6.0,>=2.0.0 in /opt/app-root/lib/python3.9/site-packages (from google-auth<3,>=1.6.3->tensorboard) (5.3.2)\n",
      "Requirement already satisfied: rsa<5,>=3.1.4 in /opt/app-root/lib/python3.9/site-packages (from google-auth<3,>=1.6.3->tensorboard) (4.9)\n",
      "Requirement already satisfied: requests-oauthlib>=0.7.0 in /opt/app-root/lib/python3.9/site-packages (from google-auth-oauthlib<2,>=0.5->tensorboard) (1.3.1)\n",
      "Requirement already satisfied: google-resumable-media>=2.6.0 in /opt/app-root/lib/python3.9/site-packages (from google-cloud-storage<3,>=2.2.1->kfp) (2.6.0)\n",
      "Requirement already satisfied: google-crc32c<2.0dev,>=1.0 in /opt/app-root/lib/python3.9/site-packages (from google-cloud-storage<3,>=2.2.1->kfp) (1.5.0)\n",
      "Requirement already satisfied: google-cloud-core<3.0dev,>=2.3.0 in /opt/app-root/lib/python3.9/site-packages (from google-cloud-storage<3,>=2.2.1->kfp) (2.3.3)\n",
      "Requirement already satisfied: certifi in /opt/app-root/lib/python3.9/site-packages (from kfp-server-api<2.1.0,>=2.0.0->kfp) (2023.7.22)\n",
      "Requirement already satisfied: python-dateutil in /opt/app-root/lib/python3.9/site-packages (from kfp-server-api<2.1.0,>=2.0.0->kfp) (2.8.2)\n",
      "Requirement already satisfied: websocket-client!=0.40.0,!=0.41.*,!=0.42.*,>=0.32.0 in /opt/app-root/lib/python3.9/site-packages (from kubernetes<27,>=8.0.0->kfp) (1.6.4)\n",
      "Requirement already satisfied: importlib-metadata>=4.4 in /opt/app-root/lib/python3.9/site-packages (from markdown>=2.6.8->tensorboard) (6.8.0)\n",
      "Requirement already satisfied: charset-normalizer<4,>=2 in /opt/app-root/lib/python3.9/site-packages (from requests<3,>=2.21.0->tensorboard) (3.3.2)\n",
      "Requirement already satisfied: idna<4,>=2.5 in /opt/app-root/lib/python3.9/site-packages (from requests<3,>=2.21.0->tensorboard) (3.4)\n",
      "Requirement already satisfied: MarkupSafe>=2.1.1 in /opt/app-root/lib/python3.9/site-packages (from werkzeug>=1.0.1->tensorboard) (2.1.3)\n",
      "Requirement already satisfied: zipp>=0.5 in /opt/app-root/lib/python3.9/site-packages (from importlib-metadata>=4.4->markdown>=2.6.8->tensorboard) (3.17.0)\n",
      "Requirement already satisfied: pyasn1<0.6.0,>=0.4.6 in /opt/app-root/lib/python3.9/site-packages (from pyasn1-modules>=0.2.1->google-auth<3,>=1.6.3->tensorboard) (0.5.0)\n",
      "Requirement already satisfied: oauthlib>=3.0.0 in /opt/app-root/lib/python3.9/site-packages (from requests-oauthlib>=0.7.0->google-auth-oauthlib<2,>=0.5->tensorboard) (3.2.2)\n",
      "Installing collected packages: flatbuffers, tensorflow-estimator, tensorboard-data-server, protobuf, keras, onnx, google-auth-oauthlib, tensorboard, tensorflow\n",
      "  Attempting uninstall: flatbuffers\n",
      "    Found existing installation: flatbuffers 2.0.7\n",
      "    Uninstalling flatbuffers-2.0.7:\n",
      "      Successfully uninstalled flatbuffers-2.0.7\n",
      "  Attempting uninstall: tensorflow-estimator\n",
      "    Found existing installation: tensorflow-estimator 2.11.0\n",
      "    Uninstalling tensorflow-estimator-2.11.0:\n",
      "      Successfully uninstalled tensorflow-estimator-2.11.0\n",
      "  Attempting uninstall: tensorboard-data-server\n",
      "    Found existing installation: tensorboard-data-server 0.6.1\n",
      "    Uninstalling tensorboard-data-server-0.6.1:\n",
      "      Successfully uninstalled tensorboard-data-server-0.6.1\n",
      "  Attempting uninstall: protobuf\n",
      "    Found existing installation: protobuf 3.20.2\n",
      "    Uninstalling protobuf-3.20.2:\n",
      "      Successfully uninstalled protobuf-3.20.2\n",
      "  Attempting uninstall: keras\n",
      "    Found existing installation: keras 2.11.0\n",
      "    Uninstalling keras-2.11.0:\n",
      "      Successfully uninstalled keras-2.11.0\n",
      "  Attempting uninstall: onnx\n",
      "    Found existing installation: onnx 1.12.0\n",
      "    Uninstalling onnx-1.12.0:\n",
      "      Successfully uninstalled onnx-1.12.0\n",
      "  Attempting uninstall: google-auth-oauthlib\n",
      "    Found existing installation: google-auth-oauthlib 0.4.6\n",
      "    Uninstalling google-auth-oauthlib-0.4.6:\n",
      "      Successfully uninstalled google-auth-oauthlib-0.4.6\n",
      "  Attempting uninstall: tensorboard\n",
      "    Found existing installation: tensorboard 2.11.2\n",
      "    Uninstalling tensorboard-2.11.2:\n",
      "      Successfully uninstalled tensorboard-2.11.2\n",
      "  Attempting uninstall: tensorflow\n",
      "    Found existing installation: tensorflow 2.11.1\n",
      "    Uninstalling tensorflow-2.11.1:\n",
      "      Successfully uninstalled tensorflow-2.11.1\n",
      "\u001b[31mERROR: pip's dependency resolver does not currently take into account all the packages that are installed. This behaviour is the source of the following dependency conflicts.\n",
      "tf2onnx 1.14.0 requires flatbuffers<3.0,>=1.12, but you have flatbuffers 23.5.26 which is incompatible.\n",
      "kfp-tekton 1.5.9 requires kfp<1.8.23,>=1.8.10, but you have kfp 2.5.0 which is incompatible.\n",
      "elyra-server 3.15.0 requires kfp!=1.7.2,<2.0,>=1.7.0, but you have kfp 2.5.0 which is incompatible.\u001b[0m\u001b[31m\n",
      "\u001b[0mSuccessfully installed flatbuffers-23.5.26 google-auth-oauthlib-1.2.0 keras-2.15.0 onnx-1.15.0 protobuf-3.20.3 tensorboard-2.15.1 tensorboard-data-server-0.7.2 tensorflow-2.15.0.post1 tensorflow-estimator-2.15.0\n",
      "\n",
      "\u001b[1m[\u001b[0m\u001b[34;49mnotice\u001b[0m\u001b[1;39;49m]\u001b[0m\u001b[39;49m A new release of pip available: \u001b[0m\u001b[31;49m22.2.2\u001b[0m\u001b[39;49m -> \u001b[0m\u001b[32;49m23.3.2\u001b[0m\n",
      "\u001b[1m[\u001b[0m\u001b[34;49mnotice\u001b[0m\u001b[1;39;49m]\u001b[0m\u001b[39;49m To update, run: \u001b[0m\u001b[32;49mpip install --upgrade pip\u001b[0m\n"
     ]
    }
   ],
   "source": [
    "!pip install --upgrade tensorflow tensorboard onnx kfp kfp-pipeline-spec"
   ]
  },
  {
   "cell_type": "code",
   "execution_count": 4,
   "id": "51c82b4a-3041-4e20-aba0-6f7bfde649ec",
   "metadata": {},
   "outputs": [],
   "source": [
    "grpc_host = 'modelmesh-serving.object-detection-yolov5.svc.cluster.local'\n",
    "grpc_port = 8033\n",
    "model_name = 'object-detection-yolov5-model'"
   ]
  },
  {
   "cell_type": "markdown",
   "id": "223b4359-b34a-4e5b-96a5-e36b440b0d22",
   "metadata": {},
   "source": [
    "#### Imports"
   ]
  },
  {
   "cell_type": "code",
   "execution_count": 5,
   "id": "37fbe2f2-6313-4280-9b86-4d3481bc1706",
   "metadata": {},
   "outputs": [],
   "source": [
    "# grpc_predict_v2_pb2 and grpc_predict_v2_pb2_grpc were created from grpc_predict_v2.proto using protoc\n",
    "import grpc\n",
    "import grpc_predict_v2_pb2\n",
    "import grpc_predict_v2_pb2_grpc"
   ]
  },
  {
   "cell_type": "markdown",
   "id": "f0ee3e01-e616-40f3-a145-a8d01e7d49cc",
   "metadata": {},
   "source": [
    "#### Create grpc channel and stub"
   ]
  },
  {
   "cell_type": "code",
   "execution_count": 6,
   "id": "c05e6fcc-0483-4b2f-9f5f-77ad0270569a",
   "metadata": {},
   "outputs": [],
   "source": [
    "channel = grpc.insecure_channel(f\"{grpc_host}:{grpc_port}\")\n",
    "stub = grpc_predict_v2_pb2_grpc.GRPCInferenceServiceStub(channel)"
   ]
  },
  {
   "cell_type": "markdown",
   "id": "4776f8d9-6ffd-40f5-8fdb-8fbdc170ad9c",
   "metadata": {},
   "source": [
    "## Most useful methods"
   ]
  },
  {
   "cell_type": "markdown",
   "id": "892ee4d3-a672-4794-8cb9-16edcad3b5c3",
   "metadata": {
    "tags": []
   },
   "source": [
    "### Model Metadata\n",
    "The per-model metadata API provides information about a model. Errors are indicated by the google.rpc.Status returned for the request. The OK code indicates success and other codes indicate failure."
   ]
  },
  {
   "cell_type": "code",
   "execution_count": 7,
   "id": "858ed9d4",
   "metadata": {
    "tags": []
   },
   "outputs": [
    {
     "name": "stdout",
     "output_type": "stream",
     "text": [
      "name: \"object-detection-yolov5-model__isvc-f4730d1d39\"\n",
      "versions: \"1\"\n",
      "platform: \"OpenVINO\"\n",
      "inputs {\n",
      "  name: \"images\"\n",
      "  datatype: \"FP32\"\n",
      "  shape: 1\n",
      "  shape: 3\n",
      "  shape: 640\n",
      "  shape: 640\n",
      "}\n",
      "outputs {\n",
      "  name: \"output0\"\n",
      "  datatype: \"FP32\"\n",
      "  shape: 1\n",
      "  shape: 25200\n",
      "  shape: 85\n",
      "}\n",
      "\n"
     ]
    }
   ],
   "source": [
    "request = grpc_predict_v2_pb2.ModelMetadataRequest(name=model_name)\n",
    "response = stub.ModelMetadata(request)\n",
    "print(response)"
   ]
  },
  {
   "cell_type": "markdown",
   "id": "f5be61ff-73ce-416a-b475-20b8ea4071f3",
   "metadata": {},
   "source": [
    "### Model inference\n",
    "See specific notebooks for inference examples"
   ]
  },
  {
   "cell_type": "markdown",
   "id": "f734bb65-dbbd-4eba-bd01-db46257eaf0a",
   "metadata": {},
   "source": [
    "## Other methods (not all implemented, depending on the runtime)"
   ]
  },
  {
   "cell_type": "markdown",
   "id": "fa15d246-eb32-486e-ad61-854944c0d095",
   "metadata": {},
   "source": [
    "## Server live\n",
    "The ServerLive API indicates if the inference server is able to receive and respond to metadata and inference request.\n",
    "\n",
    "**NOTE**: This method may not be implemented with your runtime. For example, it's not implemented in OpenVino Model Server runtime."
   ]
  },
  {
   "cell_type": "code",
   "execution_count": 8,
   "id": "f6340de8-6e1e-4ab2-a3df-110abb84304e",
   "metadata": {},
   "outputs": [
    {
     "ename": "AttributeError",
     "evalue": "module 'grpc_predict_v2_pb2' has no attribute 'ModelReady'",
     "output_type": "error",
     "traceback": [
      "\u001b[0;31m---------------------------------------------------------------------------\u001b[0m",
      "\u001b[0;31mAttributeError\u001b[0m                            Traceback (most recent call last)",
      "Cell \u001b[0;32mIn[8], line 1\u001b[0m\n\u001b[0;32m----> 1\u001b[0m request \u001b[38;5;241m=\u001b[39m \u001b[43mgrpc_predict_v2_pb2\u001b[49m\u001b[38;5;241;43m.\u001b[39;49m\u001b[43mModelReady\u001b[49m(name\u001b[38;5;241m=\u001b[39mmodel_name)\n\u001b[1;32m      2\u001b[0m response \u001b[38;5;241m=\u001b[39m stub\u001b[38;5;241m.\u001b[39mModelReady(request, metadata\u001b[38;5;241m=\u001b[39m[(\u001b[38;5;124m\"\u001b[39m\u001b[38;5;124mmm-model-id\u001b[39m\u001b[38;5;124m\"\u001b[39m, \u001b[38;5;124m\"\u001b[39m\u001b[38;5;124myolo\u001b[39m\u001b[38;5;124m\"\u001b[39m)])\n\u001b[1;32m      3\u001b[0m \u001b[38;5;28mprint\u001b[39m(response)\n",
      "\u001b[0;31mAttributeError\u001b[0m: module 'grpc_predict_v2_pb2' has no attribute 'ModelReady'"
     ]
    }
   ],
   "source": [
    "#request = grpc_predict_v2_pb2.ModelReady(name=model_name)\n",
    "#response = stub.ModelReady(request, metadata=[(\"mm-model-id\", \"yolo\")])\n",
    "#print(response)"
   ]
  },
  {
   "cell_type": "markdown",
   "id": "8de2a1e1-e6c8-404b-ac01-3bf1f0178bfd",
   "metadata": {},
   "source": [
    "## Server ready\n",
    "The ServerReady API indicates if the server is ready for inferencing.\n",
    "\n",
    "**NOTE**: This method may not be implemented with your runtime. For example, it's not implemented in OpenVino Model Server runtime."
   ]
  },
  {
   "cell_type": "code",
   "execution_count": null,
   "id": "779b1085",
   "metadata": {},
   "outputs": [],
   "source": [
    "#request = grpc_predict_v2_pb2.ModelReady(name=model_name)\n",
    "#response = stub.ModelReady(request, metadata=[(\"mm-model-id\", \"yolo\")])\n",
    "#print(response)"
   ]
  },
  {
   "cell_type": "markdown",
   "id": "d53bd36a-e8a4-4c17-b500-fe6c63883f01",
   "metadata": {},
   "source": [
    "## Model ready\n",
    "The ModelReady API indicates if a specific model is ready for inferencing.\n",
    "\n",
    "**NOTE**: This method may not be implemented with your runtime. For example, it's not implemented in OpenVino Model Server runtime."
   ]
  },
  {
   "cell_type": "code",
   "execution_count": null,
   "id": "d2c29216",
   "metadata": {},
   "outputs": [],
   "source": [
    "#request = grpc_predict_v2_pb2.ModelReady(name=model_name)\n",
    "#response = stub.ModelReady(request, metadata=[(\"mm-model-id\", \"yolo\")])\n",
    "#print(response)"
   ]
  },
  {
   "cell_type": "markdown",
   "id": "176921fc-c52f-4f86-991a-ab881e8399df",
   "metadata": {
    "tags": []
   },
   "source": [
    "## Server Metadata\n",
    "The ServerMetadata API provides information about the server. Errors are indicated by the google.rpc.Status returned for the request. The OK code indicates success and other codes indicate failure.\n",
    "\n",
    "\n",
    "**NOTE**: This method may not be implemented with your runtime. For example, it's not implemented in OpenVino Model Server runtime."
   ]
  },
  {
   "cell_type": "code",
   "execution_count": null,
   "id": "41b6cea8-02ab-42ea-b254-4d9ea365de05",
   "metadata": {
    "tags": []
   },
   "outputs": [],
   "source": [
    "#request = grpc_predict_v2_pb2.ServerMetadataRequest()\n",
    "#response = stub.ServerMetadata(request, metadata=[(\"mm-vmodel-id\", \"yolo\")])\n",
    "#print(response)"
   ]
  }
 ],
 "metadata": {
  "kernelspec": {
   "display_name": "Python 3.9",
   "language": "python",
   "name": "python3"
  },
  "language_info": {
   "codemirror_mode": {
    "name": "ipython",
    "version": 3
   },
   "file_extension": ".py",
   "mimetype": "text/x-python",
   "name": "python",
   "nbconvert_exporter": "python",
   "pygments_lexer": "ipython3",
   "version": "3.9.18"
  }
 },
 "nbformat": 4,
 "nbformat_minor": 5
}
