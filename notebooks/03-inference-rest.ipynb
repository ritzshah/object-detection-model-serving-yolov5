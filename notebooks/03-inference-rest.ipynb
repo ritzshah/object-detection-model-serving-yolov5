{
 "cells": [
  {
   "cell_type": "code",
   "execution_count": null,
   "id": "d45aa893-8a13-4063-86df-504dc7f5e341",
   "metadata": {},
   "outputs": [],
   "source": [
    "import requests\n",
    "import json\n",
    "import numpy as np\n",
    "\n",
    "URL = \"http://modelmesh-serving:8008/v2/models/stocks/infer\"\n",
    "\n",
    "X = np.random.uniform(low=100.1, high=125.1, size=(69, 60, 1))\n",
    "\n",
    "payload = {\n",
    "    \"inputs\": [\n",
    "        {\n",
    "            \"name\": \"lstm_input\",\n",
    "            \"shape\": [69, 60, 1],\n",
    "            \"datatype\": \"FP32\",\n",
    "            \"data\": X.tolist(),\n",
    "        },\n",
    "    ]\n",
    "}\n",
    "headers = {\"content-type\": \"application/json\"}\n",
    "\n",
    "response = requests.post(URL, json=payload, headers=headers)\n",
    "print(response.json())\n",
    "prediction = response.json()[\"outputs\"][0][\"data\"][0]\n",
    "# prediction = response.json()['outputs'][0]['data']\n",
    "# print(prediction)"
   ]
  },
  {
   "cell_type": "code",
   "execution_count": null,
   "id": "bbbf0768-0505-463e-8fbb-1059dc6701b1",
   "metadata": {},
   "outputs": [],
   "source": []
  }
 ],
 "metadata": {
  "kernelspec": {
   "display_name": "Python 3.9.16",
   "language": "python",
   "name": "python3"
  },
  "language_info": {
   "codemirror_mode": {
    "name": "ipython",
    "version": 3
   },
   "file_extension": ".py",
   "mimetype": "text/x-python",
   "name": "python",
   "nbconvert_exporter": "python",
   "pygments_lexer": "ipython3",
   "version": "3.9.16"
  }
 },
 "nbformat": 4,
 "nbformat_minor": 5
}
