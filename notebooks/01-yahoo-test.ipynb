{
 "cells": [
  {
   "cell_type": "code",
   "execution_count": null,
   "id": "57d38a95-5e24-4d27-8d5a-592b847e1ad6",
   "metadata": {},
   "outputs": [],
   "source": [
    "!pip install -q yfinance pandas-datareader matplotlib"
   ]
  },
  {
   "cell_type": "code",
   "execution_count": null,
   "id": "13127715-8634-4064-8095-357d16704e20",
   "metadata": {},
   "outputs": [],
   "source": [
    "import numpy as np  # python library for scientific computing\n",
    "import pandas as pd  # python library for data manipulation and analysis\n",
    "import matplotlib.pyplot as plt  # python library for charting\n",
    "from pandas_datareader import (\n",
    "    data as pdr,\n",
    ")  # extract data from internet sources into pandas data frame\n",
    "import yfinance as yf\n",
    "\n",
    "yf.pdr_override()\n",
    "data = pdr.get_data_yahoo(\"^DJI\", start=\"2006-01-01\")\n",
    "data2 = pdr.get_data_yahoo(\"MSFT\", start=\"2006-01-01\")\n",
    "data3 = pdr.get_data_yahoo(\"AAPL\", start=\"2006-01-01\")\n",
    "data4 = pdr.get_data_yahoo(\"BB.TO\", start=\"2006-01-01\")\n",
    "\n",
    "ax = (data[\"Close\"] / data[\"Close\"].iloc[0] * 100).plot(figsize=(15, 6))\n",
    "(data2[\"Close\"] / data2[\"Close\"].iloc[0] * 100).plot(ax=ax, figsize=(15, 6))\n",
    "(data3[\"Close\"] / data3[\"Close\"].iloc[0] * 100).plot(ax=ax, figsize=(15, 6))\n",
    "(data4[\"Close\"] / data4[\"Close\"].iloc[0] * 100).plot(ax=ax, figsize=(15, 6))\n",
    "\n",
    "plt.legend([\"Dow Jones\", \"Microsoft\", \"Apple\", \"Blackberry\"], loc=\"upper left\")\n",
    "plt.show()"
   ]
  }
 ],
 "metadata": {
  "kernelspec": {
   "display_name": "Python 3.9.16",
   "language": "python",
   "name": "python3"
  },
  "language_info": {
   "codemirror_mode": {
    "name": "ipython",
    "version": 3
   },
   "file_extension": ".py",
   "mimetype": "text/x-python",
   "name": "python",
   "nbconvert_exporter": "python",
   "pygments_lexer": "ipython3",
   "version": "3.8.17"
  }
 },
 "nbformat": 4,
 "nbformat_minor": 5
}
