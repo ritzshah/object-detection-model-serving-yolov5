{
 "cells": [
  {
   "cell_type": "markdown",
   "id": "f73046ff",
   "metadata": {},
   "source": [
    "# Using the model server to do an inference using GRPC"
   ]
  },
  {
   "cell_type": "markdown",
   "id": "32e060bb-5620-4365-bb45-d7e07ac093dc",
   "metadata": {},
   "source": [
    "## First, make sure we have the libraries we need\n",
    "Have a look at requirements.txt to see which libraries are used."
   ]
  },
  {
   "cell_type": "code",
   "execution_count": 6,
   "id": "a5ac29a8-da58-4e36-a92c-6be1f4c5d32a",
   "metadata": {},
   "outputs": [
    {
     "name": "stdout",
     "output_type": "stream",
     "text": [
      "\u001b[31mERROR: pip's dependency resolver does not currently take into account all the packages that are installed. This behaviour is the source of the following dependency conflicts.\n",
      "kfp-tekton 1.5.9 requires kfp<1.8.23,>=1.8.10, but you have kfp 2.5.0 which is incompatible.\n",
      "elyra-server 3.15.0 requires kfp!=1.7.2,<2.0,>=1.7.0, but you have kfp 2.5.0 which is incompatible.\u001b[0m\u001b[31m\n",
      "\u001b[0m\n",
      "\u001b[1m[\u001b[0m\u001b[34;49mnotice\u001b[0m\u001b[1;39;49m]\u001b[0m\u001b[39;49m A new release of pip available: \u001b[0m\u001b[31;49m22.2.2\u001b[0m\u001b[39;49m -> \u001b[0m\u001b[32;49m23.3.2\u001b[0m\n",
      "\u001b[1m[\u001b[0m\u001b[34;49mnotice\u001b[0m\u001b[1;39;49m]\u001b[0m\u001b[39;49m To update, run: \u001b[0m\u001b[32;49mpip install --upgrade pip\u001b[0m\n"
     ]
    }
   ],
   "source": [
    "!pip install -qr requirements.txt\n",
    "\n",
    "# Only if you don't have PyTorch installed\n",
    "#!pip install -q -r requirements-torch-cpu.txt"
   ]
  },
  {
   "cell_type": "code",
   "execution_count": null,
   "id": "f422ef44-f6db-453a-9876-a1a583c48384",
   "metadata": {},
   "outputs": [],
   "source": [
    "!pip install protobuf==3.20.2"
   ]
  },
  {
   "cell_type": "markdown",
   "id": "0b6c7a78-7bec-4c81-9a53-75ea36470b60",
   "metadata": {},
   "source": [
    "## Import the libraries and module where we have all helper code for doing the inference"
   ]
  },
  {
   "cell_type": "code",
   "execution_count": 7,
   "id": "db9df000-a171-4652-8160-272f81e49612",
   "metadata": {},
   "outputs": [
    {
     "ename": "ImportError",
     "evalue": "cannot import name 'builder' from 'google.protobuf.internal' (/opt/app-root/lib64/python3.9/site-packages/google/protobuf/internal/__init__.py)",
     "output_type": "error",
     "traceback": [
      "\u001b[0;31m---------------------------------------------------------------------------\u001b[0m",
      "\u001b[0;31mImportError\u001b[0m                               Traceback (most recent call last)",
      "Cell \u001b[0;32mIn[7], line 5\u001b[0m\n\u001b[1;32m      2\u001b[0m \u001b[38;5;28;01mfrom\u001b[39;00m \u001b[38;5;21;01mmatplotlib\u001b[39;00m \u001b[38;5;28;01mimport\u001b[39;00m pyplot \u001b[38;5;28;01mas\u001b[39;00m plt\n\u001b[1;32m      3\u001b[0m \u001b[38;5;28;01mfrom\u001b[39;00m \u001b[38;5;21;01mPIL\u001b[39;00m \u001b[38;5;28;01mimport\u001b[39;00m Image\n\u001b[0;32m----> 5\u001b[0m \u001b[38;5;28;01mfrom\u001b[39;00m \u001b[38;5;21;01mremote_infer_grpc\u001b[39;00m \u001b[38;5;28;01mimport\u001b[39;00m ort_v5\n",
      "File \u001b[0;32m~/object-detection-model-serving-yolov5/remote_infer_grpc.py:10\u001b[0m\n\u001b[1;32m      8\u001b[0m \u001b[38;5;28;01mimport\u001b[39;00m \u001b[38;5;21;01mrequests\u001b[39;00m\n\u001b[1;32m      9\u001b[0m \u001b[38;5;28;01mimport\u001b[39;00m \u001b[38;5;21;01mgrpc\u001b[39;00m\n\u001b[0;32m---> 10\u001b[0m \u001b[38;5;28;01mimport\u001b[39;00m \u001b[38;5;21;01mgrpc_predict_v2_pb2_grpc\u001b[39;00m\n\u001b[1;32m     11\u001b[0m \u001b[38;5;28;01mimport\u001b[39;00m \u001b[38;5;21;01mgrpc_predict_v2_pb2\u001b[39;00m\n\u001b[1;32m     12\u001b[0m \u001b[38;5;28;01mimport\u001b[39;00m \u001b[38;5;21;01mtime\u001b[39;00m\n",
      "File \u001b[0;32m~/object-detection-model-serving-yolov5/grpc_predict_v2_pb2_grpc.py:5\u001b[0m\n\u001b[1;32m      2\u001b[0m \u001b[38;5;124;03m\"\"\"Client and server classes corresponding to protobuf-defined services.\"\"\"\u001b[39;00m\n\u001b[1;32m      3\u001b[0m \u001b[38;5;28;01mimport\u001b[39;00m \u001b[38;5;21;01mgrpc\u001b[39;00m\n\u001b[0;32m----> 5\u001b[0m \u001b[38;5;28;01mimport\u001b[39;00m \u001b[38;5;21;01mgrpc_predict_v2_pb2\u001b[39;00m \u001b[38;5;28;01mas\u001b[39;00m \u001b[38;5;21;01mgrpc__predict__v2__pb2\u001b[39;00m\n\u001b[1;32m      8\u001b[0m \u001b[38;5;28;01mclass\u001b[39;00m \u001b[38;5;21;01mGRPCInferenceServiceStub\u001b[39;00m(\u001b[38;5;28mobject\u001b[39m):\n\u001b[1;32m      9\u001b[0m \u001b[38;5;250m    \u001b[39m\u001b[38;5;124;03m\"\"\"Inference Server GRPC endpoints.\u001b[39;00m\n\u001b[1;32m     10\u001b[0m \u001b[38;5;124;03m    \"\"\"\u001b[39;00m\n",
      "File \u001b[0;32m~/object-detection-model-serving-yolov5/grpc_predict_v2_pb2.py:5\u001b[0m\n\u001b[1;32m      1\u001b[0m \u001b[38;5;66;03m# -*- coding: utf-8 -*-\u001b[39;00m\n\u001b[1;32m      2\u001b[0m \u001b[38;5;66;03m# Generated by the protocol buffer compiler.  DO NOT EDIT!\u001b[39;00m\n\u001b[1;32m      3\u001b[0m \u001b[38;5;66;03m# source: grpc_predict_v2.proto\u001b[39;00m\n\u001b[1;32m      4\u001b[0m \u001b[38;5;124;03m\"\"\"Generated protocol buffer code.\"\"\"\u001b[39;00m\n\u001b[0;32m----> 5\u001b[0m \u001b[38;5;28;01mfrom\u001b[39;00m \u001b[38;5;21;01mgoogle\u001b[39;00m\u001b[38;5;21;01m.\u001b[39;00m\u001b[38;5;21;01mprotobuf\u001b[39;00m\u001b[38;5;21;01m.\u001b[39;00m\u001b[38;5;21;01minternal\u001b[39;00m \u001b[38;5;28;01mimport\u001b[39;00m builder \u001b[38;5;28;01mas\u001b[39;00m _builder\n\u001b[1;32m      6\u001b[0m \u001b[38;5;28;01mfrom\u001b[39;00m \u001b[38;5;21;01mgoogle\u001b[39;00m\u001b[38;5;21;01m.\u001b[39;00m\u001b[38;5;21;01mprotobuf\u001b[39;00m \u001b[38;5;28;01mimport\u001b[39;00m descriptor \u001b[38;5;28;01mas\u001b[39;00m _descriptor\n\u001b[1;32m      7\u001b[0m \u001b[38;5;28;01mfrom\u001b[39;00m \u001b[38;5;21;01mgoogle\u001b[39;00m\u001b[38;5;21;01m.\u001b[39;00m\u001b[38;5;21;01mprotobuf\u001b[39;00m \u001b[38;5;28;01mimport\u001b[39;00m descriptor_pool \u001b[38;5;28;01mas\u001b[39;00m _descriptor_pool\n",
      "\u001b[0;31mImportError\u001b[0m: cannot import name 'builder' from 'google.protobuf.internal' (/opt/app-root/lib64/python3.9/site-packages/google/protobuf/internal/__init__.py)"
     ]
    }
   ],
   "source": [
    "import cv2\n",
    "from matplotlib import pyplot as plt\n",
    "from PIL import Image\n",
    "\n",
    "from remote_infer_grpc import ort_v5"
   ]
  },
  {
   "cell_type": "markdown",
   "id": "60552a1d-4061-4bb5-bd60-16f770515a75",
   "metadata": {},
   "source": [
    "## Enter the grpc host and port number, the model name and the YAML file containing your classes"
   ]
  },
  {
   "cell_type": "code",
   "execution_count": null,
   "id": "ba98525f-df87-40fe-8f86-2c0d99a295c2",
   "metadata": {},
   "outputs": [],
   "source": [
    "grpc_host = 'modelmesh-serving.object-detection-yolov5.svc.cluster.local'\n",
    "grpc_port = 8033\n",
    "model_name = 'object-detection-yolov5-model'\n",
    "classes_file = 'coco.yaml'"
   ]
  },
  {
   "cell_type": "markdown",
   "id": "3f65acbc-82a2-4a3a-bdb6-2fff1803d518",
   "metadata": {},
   "source": [
    "## Now set the parameters for the inference"
   ]
  },
  {
   "cell_type": "code",
   "execution_count": null,
   "id": "84370c09-7123-4df1-8d08-740cb86b0649",
   "metadata": {},
   "outputs": [],
   "source": [
    "# 1. The image you want to analyze\n",
    "image_path='images/zidane.jpg'\n",
    "#image_path='images/bus.jpg' # You can replace this with an image you upload\n",
    "\n",
    "# 2. Confidence threshold, between 0 and 1 (detections with less score won't be retained)\n",
    "conf = 0.2\n",
    "\n",
    "# 3. Intersection over Union Threshold, between 0 and 1 (cleanup overlapping boxes)\n",
    "iou = 0.6"
   ]
  },
  {
   "cell_type": "markdown",
   "id": "a1339611-0e6b-49b0-ac6d-bd5c1e1fca56",
   "metadata": {},
   "source": [
    "## Launch the inference and show the result"
   ]
  },
  {
   "cell_type": "code",
   "execution_count": null,
   "id": "4d232504-f324-41fa-950d-2f96a5883478",
   "metadata": {},
   "outputs": [],
   "source": [
    "infer=ort_v5(grpc_host, grpc_port, model_name, 640, classes_file)\n",
    "img, out, result = infer(image_path, conf, iou)\n",
    "print(f'{result}')\n",
    "print('Predictions:')\n",
    "print(out)\n",
    "print('Format: each detection is a float64 array shaped as [top_left_corner_x, top_left_corner_y, bottom_right_corner_x, bottom_right_corner_y, confidence, class_index]')\n",
    "print('The coordinates are relative to a letterboxed representation of the image of size 640x640')\n",
    "img = cv2.cvtColor(img, cv2.COLOR_BGR2RGB)\n",
    "fig = plt.gcf()\n",
    "fig.set_size_inches(24, 12)\n",
    "plt.axis('off')\n",
    "plt.imshow(img);"
   ]
  },
  {
   "cell_type": "markdown",
   "id": "abc2e68e-37a7-4876-b7f3-7cc1d869b64c",
   "metadata": {},
   "source": [
    "## Time it on multiple images!"
   ]
  },
  {
   "cell_type": "code",
   "execution_count": null,
   "id": "427cfe3e-0bf3-4437-a224-f8b53327daa8",
   "metadata": {},
   "outputs": [],
   "source": [
    "import os\n",
    "import time\n",
    "\n",
    "folder_path = 'images'\n",
    "infer=ort_v5(grpc_host, grpc_port, model_name, 640, classes_file)\n",
    "\n",
    "start_time = time.time()\n",
    "\n",
    "# Iterate over all files in the folder\n",
    "for filename in os.listdir(folder_path):\n",
    "    # Get the full path of the file\n",
    "    file_path = os.path.join(folder_path, filename)\n",
    "\n",
    "    # Check if the file path is a file (not a directory)\n",
    "    if os.path.isfile(file_path):\n",
    "        # Do the inference on the file\n",
    "        img, out, result = infer(file_path, conf, iou)\n",
    "        print(f'{result}')\n",
    "\n",
    "end_time = time.time()\n",
    "execution_time = end_time - start_time\n",
    "print(f\"Executed in {execution_time:.2f} seconds\")"
   ]
  },
  {
   "cell_type": "code",
   "execution_count": null,
   "id": "87592b55-8175-411e-a72a-251191d6e6fb",
   "metadata": {},
   "outputs": [],
   "source": []
  }
 ],
 "metadata": {
  "kernelspec": {
   "display_name": "Python 3.9",
   "language": "python",
   "name": "python3"
  },
  "language_info": {
   "codemirror_mode": {
    "name": "ipython",
    "version": 3
   },
   "file_extension": ".py",
   "mimetype": "text/x-python",
   "name": "python",
   "nbconvert_exporter": "python",
   "pygments_lexer": "ipython3",
   "version": "3.9.18"
  }
 },
 "nbformat": 4,
 "nbformat_minor": 5
}
